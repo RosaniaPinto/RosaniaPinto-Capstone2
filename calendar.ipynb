{
 "cells": [
  {
   "cell_type": "code",
   "execution_count": 22,
   "metadata": {},
   "outputs": [],
   "source": [
    "import numpy as np\n",
    "import pandas as pd\n",
    "import gzip\n",
    "import csv\n",
    "import json\n",
    "import matplotlib.pyplot as plt\n",
    "import seaborn as sns\n",
    "import datetime\n"
   ]
  },
  {
   "cell_type": "code",
   "execution_count": 14,
   "metadata": {},
   "outputs": [
    {
     "data": {
      "text/html": [
       "<div>\n",
       "<style scoped>\n",
       "    .dataframe tbody tr th:only-of-type {\n",
       "        vertical-align: middle;\n",
       "    }\n",
       "\n",
       "    .dataframe tbody tr th {\n",
       "        vertical-align: top;\n",
       "    }\n",
       "\n",
       "    .dataframe thead th {\n",
       "        text-align: right;\n",
       "    }\n",
       "</style>\n",
       "<table border=\"1\" class=\"dataframe\">\n",
       "  <thead>\n",
       "    <tr style=\"text-align: right;\">\n",
       "      <th></th>\n",
       "      <th>listing_id</th>\n",
       "      <th>date</th>\n",
       "      <th>available</th>\n",
       "      <th>price</th>\n",
       "      <th>adjusted_price</th>\n",
       "      <th>minimum_nights</th>\n",
       "      <th>maximum_nights</th>\n",
       "    </tr>\n",
       "  </thead>\n",
       "  <tbody>\n",
       "    <tr>\n",
       "      <th>0</th>\n",
       "      <td>3979</td>\n",
       "      <td>2019-06-25</td>\n",
       "      <td>f</td>\n",
       "      <td>$60.00</td>\n",
       "      <td>$60.00</td>\n",
       "      <td>1</td>\n",
       "      <td>365</td>\n",
       "    </tr>\n",
       "    <tr>\n",
       "      <th>1</th>\n",
       "      <td>3979</td>\n",
       "      <td>2019-06-26</td>\n",
       "      <td>f</td>\n",
       "      <td>$60.00</td>\n",
       "      <td>$60.00</td>\n",
       "      <td>1</td>\n",
       "      <td>365</td>\n",
       "    </tr>\n",
       "    <tr>\n",
       "      <th>2</th>\n",
       "      <td>3979</td>\n",
       "      <td>2019-06-27</td>\n",
       "      <td>f</td>\n",
       "      <td>$60.00</td>\n",
       "      <td>$60.00</td>\n",
       "      <td>1</td>\n",
       "      <td>365</td>\n",
       "    </tr>\n",
       "    <tr>\n",
       "      <th>3</th>\n",
       "      <td>3979</td>\n",
       "      <td>2019-06-28</td>\n",
       "      <td>f</td>\n",
       "      <td>$60.00</td>\n",
       "      <td>$60.00</td>\n",
       "      <td>1</td>\n",
       "      <td>365</td>\n",
       "    </tr>\n",
       "    <tr>\n",
       "      <th>4</th>\n",
       "      <td>3979</td>\n",
       "      <td>2019-06-29</td>\n",
       "      <td>f</td>\n",
       "      <td>$60.00</td>\n",
       "      <td>$60.00</td>\n",
       "      <td>1</td>\n",
       "      <td>365</td>\n",
       "    </tr>\n",
       "    <tr>\n",
       "      <th>...</th>\n",
       "      <td>...</td>\n",
       "      <td>...</td>\n",
       "      <td>...</td>\n",
       "      <td>...</td>\n",
       "      <td>...</td>\n",
       "      <td>...</td>\n",
       "      <td>...</td>\n",
       "    </tr>\n",
       "    <tr>\n",
       "      <th>3419680</th>\n",
       "      <td>35798130</td>\n",
       "      <td>2020-06-19</td>\n",
       "      <td>t</td>\n",
       "      <td>$350.00</td>\n",
       "      <td>$350.00</td>\n",
       "      <td>1</td>\n",
       "      <td>1125</td>\n",
       "    </tr>\n",
       "    <tr>\n",
       "      <th>3419681</th>\n",
       "      <td>35798130</td>\n",
       "      <td>2020-06-20</td>\n",
       "      <td>t</td>\n",
       "      <td>$350.00</td>\n",
       "      <td>$350.00</td>\n",
       "      <td>1</td>\n",
       "      <td>1125</td>\n",
       "    </tr>\n",
       "    <tr>\n",
       "      <th>3419682</th>\n",
       "      <td>35798130</td>\n",
       "      <td>2020-06-21</td>\n",
       "      <td>t</td>\n",
       "      <td>$300.00</td>\n",
       "      <td>$300.00</td>\n",
       "      <td>1</td>\n",
       "      <td>1125</td>\n",
       "    </tr>\n",
       "    <tr>\n",
       "      <th>3419683</th>\n",
       "      <td>35798130</td>\n",
       "      <td>2020-06-22</td>\n",
       "      <td>t</td>\n",
       "      <td>$300.00</td>\n",
       "      <td>$300.00</td>\n",
       "      <td>1</td>\n",
       "      <td>1125</td>\n",
       "    </tr>\n",
       "    <tr>\n",
       "      <th>3419684</th>\n",
       "      <td>35798130</td>\n",
       "      <td>2020-06-23</td>\n",
       "      <td>t</td>\n",
       "      <td>$300.00</td>\n",
       "      <td>$300.00</td>\n",
       "      <td>1</td>\n",
       "      <td>1125</td>\n",
       "    </tr>\n",
       "  </tbody>\n",
       "</table>\n",
       "<p>3419685 rows × 7 columns</p>\n",
       "</div>"
      ],
      "text/plain": [
       "         listing_id        date available    price adjusted_price  \\\n",
       "0              3979  2019-06-25         f   $60.00         $60.00   \n",
       "1              3979  2019-06-26         f   $60.00         $60.00   \n",
       "2              3979  2019-06-27         f   $60.00         $60.00   \n",
       "3              3979  2019-06-28         f   $60.00         $60.00   \n",
       "4              3979  2019-06-29         f   $60.00         $60.00   \n",
       "...             ...         ...       ...      ...            ...   \n",
       "3419680    35798130  2020-06-19         t  $350.00        $350.00   \n",
       "3419681    35798130  2020-06-20         t  $350.00        $350.00   \n",
       "3419682    35798130  2020-06-21         t  $300.00        $300.00   \n",
       "3419683    35798130  2020-06-22         t  $300.00        $300.00   \n",
       "3419684    35798130  2020-06-23         t  $300.00        $300.00   \n",
       "\n",
       "         minimum_nights  maximum_nights  \n",
       "0                     1             365  \n",
       "1                     1             365  \n",
       "2                     1             365  \n",
       "3                     1             365  \n",
       "4                     1             365  \n",
       "...                 ...             ...  \n",
       "3419680               1            1125  \n",
       "3419681               1            1125  \n",
       "3419682               1            1125  \n",
       "3419683               1            1125  \n",
       "3419684               1            1125  \n",
       "\n",
       "[3419685 rows x 7 columns]"
      ]
     },
     "execution_count": 14,
     "metadata": {},
     "output_type": "execute_result"
    }
   ],
   "source": [
    "#Detailed calendar data for Nevada until December 31, 2019\n",
    "\n",
    "df = pd.read_csv('C:\\\\Users\\\\Rose\\\\Desktop\\\\Capstone2\\\\thedata\\\\calendar_detailed.csv.gz')\n",
    "df"
   ]
  },
  {
   "cell_type": "code",
   "execution_count": 15,
   "metadata": {},
   "outputs": [
    {
     "data": {
      "text/plain": [
       "(3419685, 7)"
      ]
     },
     "execution_count": 15,
     "metadata": {},
     "output_type": "execute_result"
    }
   ],
   "source": [
    "df.shape"
   ]
  },
  {
   "cell_type": "code",
   "execution_count": 16,
   "metadata": {},
   "outputs": [
    {
     "name": "stdout",
     "output_type": "stream",
     "text": [
      "<class 'pandas.core.frame.DataFrame'>\n",
      "RangeIndex: 3419685 entries, 0 to 3419684\n",
      "Data columns (total 7 columns):\n",
      " #   Column          Dtype \n",
      "---  ------          ----- \n",
      " 0   listing_id      int64 \n",
      " 1   date            object\n",
      " 2   available       object\n",
      " 3   price           object\n",
      " 4   adjusted_price  object\n",
      " 5   minimum_nights  int64 \n",
      " 6   maximum_nights  int64 \n",
      "dtypes: int64(3), object(4)\n",
      "memory usage: 182.6+ MB\n"
     ]
    }
   ],
   "source": [
    "df.info()"
   ]
  },
  {
   "cell_type": "code",
   "execution_count": 17,
   "metadata": {},
   "outputs": [
    {
     "data": {
      "text/plain": [
       "listing_id         int64\n",
       "date              object\n",
       "available         object\n",
       "price             object\n",
       "adjusted_price    object\n",
       "minimum_nights     int64\n",
       "maximum_nights     int64\n",
       "dtype: object"
      ]
     },
     "execution_count": 17,
     "metadata": {},
     "output_type": "execute_result"
    }
   ],
   "source": [
    "df.dtypes"
   ]
  },
  {
   "cell_type": "code",
   "execution_count": 18,
   "metadata": {},
   "outputs": [
    {
     "data": {
      "text/plain": [
       "Index(['listing_id', 'date', 'available', 'price', 'adjusted_price',\n",
       "       'minimum_nights', 'maximum_nights'],\n",
       "      dtype='object')"
      ]
     },
     "execution_count": 18,
     "metadata": {},
     "output_type": "execute_result"
    }
   ],
   "source": [
    "df.columns"
   ]
  },
  {
   "cell_type": "code",
   "execution_count": 19,
   "metadata": {},
   "outputs": [],
   "source": [
    "# Saving to copy for safety\n",
    "cad = df.copy()"
   ]
  },
  {
   "cell_type": "markdown",
   "metadata": {},
   "source": [
    "Filtering it out for 2019 data"
   ]
  },
  {
   "cell_type": "code",
   "execution_count": 20,
   "metadata": {},
   "outputs": [
    {
     "data": {
      "text/plain": [
       "listing_id         int64\n",
       "date              object\n",
       "available         object\n",
       "price             object\n",
       "adjusted_price    object\n",
       "minimum_nights     int64\n",
       "maximum_nights     int64\n",
       "dtype: object"
      ]
     },
     "execution_count": 20,
     "metadata": {},
     "output_type": "execute_result"
    }
   ],
   "source": [
    "cad.dtypes"
   ]
  },
  {
   "cell_type": "code",
   "execution_count": 21,
   "metadata": {},
   "outputs": [
    {
     "data": {
      "text/html": [
       "<div>\n",
       "<style scoped>\n",
       "    .dataframe tbody tr th:only-of-type {\n",
       "        vertical-align: middle;\n",
       "    }\n",
       "\n",
       "    .dataframe tbody tr th {\n",
       "        vertical-align: top;\n",
       "    }\n",
       "\n",
       "    .dataframe thead th {\n",
       "        text-align: right;\n",
       "    }\n",
       "</style>\n",
       "<table border=\"1\" class=\"dataframe\">\n",
       "  <thead>\n",
       "    <tr style=\"text-align: right;\">\n",
       "      <th></th>\n",
       "      <th>listing_id</th>\n",
       "      <th>date</th>\n",
       "      <th>available</th>\n",
       "      <th>price</th>\n",
       "      <th>adjusted_price</th>\n",
       "      <th>minimum_nights</th>\n",
       "      <th>maximum_nights</th>\n",
       "    </tr>\n",
       "  </thead>\n",
       "  <tbody>\n",
       "    <tr>\n",
       "      <th>0</th>\n",
       "      <td>3979</td>\n",
       "      <td>2019-06-25</td>\n",
       "      <td>f</td>\n",
       "      <td>$60.00</td>\n",
       "      <td>$60.00</td>\n",
       "      <td>1</td>\n",
       "      <td>365</td>\n",
       "    </tr>\n",
       "    <tr>\n",
       "      <th>1</th>\n",
       "      <td>3979</td>\n",
       "      <td>2019-06-26</td>\n",
       "      <td>f</td>\n",
       "      <td>$60.00</td>\n",
       "      <td>$60.00</td>\n",
       "      <td>1</td>\n",
       "      <td>365</td>\n",
       "    </tr>\n",
       "    <tr>\n",
       "      <th>2</th>\n",
       "      <td>3979</td>\n",
       "      <td>2019-06-27</td>\n",
       "      <td>f</td>\n",
       "      <td>$60.00</td>\n",
       "      <td>$60.00</td>\n",
       "      <td>1</td>\n",
       "      <td>365</td>\n",
       "    </tr>\n",
       "    <tr>\n",
       "      <th>3</th>\n",
       "      <td>3979</td>\n",
       "      <td>2019-06-28</td>\n",
       "      <td>f</td>\n",
       "      <td>$60.00</td>\n",
       "      <td>$60.00</td>\n",
       "      <td>1</td>\n",
       "      <td>365</td>\n",
       "    </tr>\n",
       "    <tr>\n",
       "      <th>4</th>\n",
       "      <td>3979</td>\n",
       "      <td>2019-06-29</td>\n",
       "      <td>f</td>\n",
       "      <td>$60.00</td>\n",
       "      <td>$60.00</td>\n",
       "      <td>1</td>\n",
       "      <td>365</td>\n",
       "    </tr>\n",
       "  </tbody>\n",
       "</table>\n",
       "</div>"
      ],
      "text/plain": [
       "   listing_id        date available   price adjusted_price  minimum_nights  \\\n",
       "0        3979  2019-06-25         f  $60.00         $60.00               1   \n",
       "1        3979  2019-06-26         f  $60.00         $60.00               1   \n",
       "2        3979  2019-06-27         f  $60.00         $60.00               1   \n",
       "3        3979  2019-06-28         f  $60.00         $60.00               1   \n",
       "4        3979  2019-06-29         f  $60.00         $60.00               1   \n",
       "\n",
       "   maximum_nights  \n",
       "0             365  \n",
       "1             365  \n",
       "2             365  \n",
       "3             365  \n",
       "4             365  "
      ]
     },
     "execution_count": 21,
     "metadata": {},
     "output_type": "execute_result"
    }
   ],
   "source": [
    "cad.head()"
   ]
  },
  {
   "cell_type": "code",
   "execution_count": 11,
   "metadata": {},
   "outputs": [],
   "source": [
    "date = cad['date']\n",
    "date = date.str.strip()\n",
    "date = date.str.rsplit(' ',2,expand=True)\n",
    "date.head()\n",
    "date = date.rename(columns={0:'address',1:'state',2:'zipcode'})\n",
    "\n"
   ]
  },
  {
   "cell_type": "code",
   "execution_count": null,
   "metadata": {},
   "outputs": [],
   "source": [
    "year.head()\n",
    "address = address.rename(columns={0:'address',1:'state',2:'zipcode'})\n",
    "address"
   ]
  },
  {
   "cell_type": "code",
   "execution_count": null,
   "metadata": {},
   "outputs": [],
   "source": []
  },
  {
   "cell_type": "code",
   "execution_count": null,
   "metadata": {},
   "outputs": [],
   "source": []
  },
  {
   "cell_type": "code",
   "execution_count": null,
   "metadata": {},
   "outputs": [],
   "source": []
  },
  {
   "cell_type": "code",
   "execution_count": null,
   "metadata": {},
   "outputs": [],
   "source": []
  },
  {
   "cell_type": "code",
   "execution_count": null,
   "metadata": {},
   "outputs": [],
   "source": []
  },
  {
   "cell_type": "markdown",
   "metadata": {},
   "source": [
    "Don't run below yet it was a test on datetime function"
   ]
  },
  {
   "cell_type": "code",
   "execution_count": 10,
   "metadata": {},
   "outputs": [],
   "source": [
    "cad['date'] = pd.to_datetime(cad.date)"
   ]
  },
  {
   "cell_type": "code",
   "execution_count": 12,
   "metadata": {},
   "outputs": [
    {
     "data": {
      "text/html": [
       "<div>\n",
       "<style scoped>\n",
       "    .dataframe tbody tr th:only-of-type {\n",
       "        vertical-align: middle;\n",
       "    }\n",
       "\n",
       "    .dataframe tbody tr th {\n",
       "        vertical-align: top;\n",
       "    }\n",
       "\n",
       "    .dataframe thead th {\n",
       "        text-align: right;\n",
       "    }\n",
       "</style>\n",
       "<table border=\"1\" class=\"dataframe\">\n",
       "  <thead>\n",
       "    <tr style=\"text-align: right;\">\n",
       "      <th></th>\n",
       "      <th>listing_id</th>\n",
       "      <th>date</th>\n",
       "      <th>available</th>\n",
       "      <th>price</th>\n",
       "      <th>adjusted_price</th>\n",
       "      <th>minimum_nights</th>\n",
       "      <th>maximum_nights</th>\n",
       "    </tr>\n",
       "  </thead>\n",
       "  <tbody>\n",
       "    <tr>\n",
       "      <th>0</th>\n",
       "      <td>2234029</td>\n",
       "      <td>2019-12-31</td>\n",
       "      <td>f</td>\n",
       "      <td>$140.00</td>\n",
       "      <td>$140.00</td>\n",
       "      <td>30</td>\n",
       "      <td>1125</td>\n",
       "    </tr>\n",
       "    <tr>\n",
       "      <th>1</th>\n",
       "      <td>948041</td>\n",
       "      <td>2019-12-31</td>\n",
       "      <td>f</td>\n",
       "      <td>$60.00</td>\n",
       "      <td>$60.00</td>\n",
       "      <td>31</td>\n",
       "      <td>1096</td>\n",
       "    </tr>\n",
       "    <tr>\n",
       "      <th>2</th>\n",
       "      <td>948041</td>\n",
       "      <td>2020-01-01</td>\n",
       "      <td>f</td>\n",
       "      <td>$65.00</td>\n",
       "      <td>$65.00</td>\n",
       "      <td>31</td>\n",
       "      <td>1096</td>\n",
       "    </tr>\n",
       "    <tr>\n",
       "      <th>3</th>\n",
       "      <td>948041</td>\n",
       "      <td>2020-01-02</td>\n",
       "      <td>f</td>\n",
       "      <td>$65.00</td>\n",
       "      <td>$65.00</td>\n",
       "      <td>31</td>\n",
       "      <td>1096</td>\n",
       "    </tr>\n",
       "    <tr>\n",
       "      <th>4</th>\n",
       "      <td>948041</td>\n",
       "      <td>2020-01-03</td>\n",
       "      <td>f</td>\n",
       "      <td>$65.00</td>\n",
       "      <td>$65.00</td>\n",
       "      <td>31</td>\n",
       "      <td>1096</td>\n",
       "    </tr>\n",
       "    <tr>\n",
       "      <th>...</th>\n",
       "      <td>...</td>\n",
       "      <td>...</td>\n",
       "      <td>...</td>\n",
       "      <td>...</td>\n",
       "      <td>...</td>\n",
       "      <td>...</td>\n",
       "      <td>...</td>\n",
       "    </tr>\n",
       "    <tr>\n",
       "      <th>3977035</th>\n",
       "      <td>39896044</td>\n",
       "      <td>2020-12-25</td>\n",
       "      <td>f</td>\n",
       "      <td>$58.00</td>\n",
       "      <td>$58.00</td>\n",
       "      <td>30</td>\n",
       "      <td>180</td>\n",
       "    </tr>\n",
       "    <tr>\n",
       "      <th>3977036</th>\n",
       "      <td>39896044</td>\n",
       "      <td>2020-12-26</td>\n",
       "      <td>f</td>\n",
       "      <td>$58.00</td>\n",
       "      <td>$58.00</td>\n",
       "      <td>30</td>\n",
       "      <td>180</td>\n",
       "    </tr>\n",
       "    <tr>\n",
       "      <th>3977037</th>\n",
       "      <td>39896044</td>\n",
       "      <td>2020-12-27</td>\n",
       "      <td>f</td>\n",
       "      <td>$58.00</td>\n",
       "      <td>$58.00</td>\n",
       "      <td>30</td>\n",
       "      <td>180</td>\n",
       "    </tr>\n",
       "    <tr>\n",
       "      <th>3977038</th>\n",
       "      <td>39896044</td>\n",
       "      <td>2020-12-28</td>\n",
       "      <td>f</td>\n",
       "      <td>$58.00</td>\n",
       "      <td>$58.00</td>\n",
       "      <td>30</td>\n",
       "      <td>180</td>\n",
       "    </tr>\n",
       "    <tr>\n",
       "      <th>3977039</th>\n",
       "      <td>39896044</td>\n",
       "      <td>2020-12-29</td>\n",
       "      <td>f</td>\n",
       "      <td>$58.00</td>\n",
       "      <td>$58.00</td>\n",
       "      <td>30</td>\n",
       "      <td>180</td>\n",
       "    </tr>\n",
       "  </tbody>\n",
       "</table>\n",
       "<p>3977040 rows × 7 columns</p>\n",
       "</div>"
      ],
      "text/plain": [
       "         listing_id       date available    price adjusted_price  \\\n",
       "0           2234029 2019-12-31         f  $140.00        $140.00   \n",
       "1            948041 2019-12-31         f   $60.00         $60.00   \n",
       "2            948041 2020-01-01         f   $65.00         $65.00   \n",
       "3            948041 2020-01-02         f   $65.00         $65.00   \n",
       "4            948041 2020-01-03         f   $65.00         $65.00   \n",
       "...             ...        ...       ...      ...            ...   \n",
       "3977035    39896044 2020-12-25         f   $58.00         $58.00   \n",
       "3977036    39896044 2020-12-26         f   $58.00         $58.00   \n",
       "3977037    39896044 2020-12-27         f   $58.00         $58.00   \n",
       "3977038    39896044 2020-12-28         f   $58.00         $58.00   \n",
       "3977039    39896044 2020-12-29         f   $58.00         $58.00   \n",
       "\n",
       "         minimum_nights  maximum_nights  \n",
       "0                    30            1125  \n",
       "1                    31            1096  \n",
       "2                    31            1096  \n",
       "3                    31            1096  \n",
       "4                    31            1096  \n",
       "...                 ...             ...  \n",
       "3977035              30             180  \n",
       "3977036              30             180  \n",
       "3977037              30             180  \n",
       "3977038              30             180  \n",
       "3977039              30             180  \n",
       "\n",
       "[3977040 rows x 7 columns]"
      ]
     },
     "execution_count": 12,
     "metadata": {},
     "output_type": "execute_result"
    }
   ],
   "source": [
    "cad[(cad['date']>=datetime.datetime(2019,1,1))] "
   ]
  }
 ],
 "metadata": {
  "kernelspec": {
   "display_name": "Python 3",
   "language": "python",
   "name": "python3"
  },
  "language_info": {
   "codemirror_mode": {
    "name": "ipython",
    "version": 3
   },
   "file_extension": ".py",
   "mimetype": "text/x-python",
   "name": "python",
   "nbconvert_exporter": "python",
   "pygments_lexer": "ipython3",
   "version": "3.7.7"
  }
 },
 "nbformat": 4,
 "nbformat_minor": 4
}
